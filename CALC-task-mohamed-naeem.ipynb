{
 "cells": [
  {
   "cell_type": "code",
   "execution_count": 5,
   "metadata": {},
   "outputs": [
    {
     "name": "stdout",
     "output_type": "stream",
     "text": [
      "Result: 176\n"
     ]
    }
   ],
   "source": [
    "def mohamed_naeem_calculator():\n",
    "    while True:\n",
    "        try:\n",
    "            num1 = float(input(\"Enter the first number: \"))\n",
    "            num2 = float(input(\"Enter the second number: \"))\n",
    "            operator = input(\"Enter the operator (+, -, *, /): \")\n",
    "\n",
    "            if operator == '+':\n",
    "                result = num1 + num2\n",
    "            elif operator == '-':\n",
    "                result = num1 - num2\n",
    "            elif operator == '*':\n",
    "                result = num1 * num2\n",
    "            elif operator == '/':\n",
    "                if num2 != 0:\n",
    "                    result = num1 / num2\n",
    "                else:\n",
    "                    print(\"Error: Division by zero is not allowed\")\n",
    "                    continue\n",
    "            else:\n",
    "                print(\"Wrong operator\")\n",
    "                continue\n",
    "            \n",
    "            if result.is_integer():\n",
    "                result = int(result)\n",
    "                \n",
    "            print(\"Result:\", result)\n",
    "            break\n",
    "        except ValueError:\n",
    "            print(\"The number you entered is invalid\")\n",
    "\n",
    "mohamed_naeem_calculator()\n"
   ]
  }
 ],
 "metadata": {
  "kernelspec": {
   "display_name": "Python 3",
   "language": "python",
   "name": "python3"
  },
  "language_info": {
   "codemirror_mode": {
    "name": "ipython",
    "version": 3
   },
   "file_extension": ".py",
   "mimetype": "text/x-python",
   "name": "python",
   "nbconvert_exporter": "python",
   "pygments_lexer": "ipython3",
   "version": "3.11.4"
  },
  "orig_nbformat": 4
 },
 "nbformat": 4,
 "nbformat_minor": 2
}
